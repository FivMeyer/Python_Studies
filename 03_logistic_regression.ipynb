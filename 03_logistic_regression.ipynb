{
 "cells": [
  {
   "cell_type": "markdown",
   "metadata": {},
   "source": [
    "A regressão logísitca é um método de classificação. Tem aplicações das mais variadas como por exemplo:\n",
    "* Filtro de e-mails (spam ou não)\n",
    "* Modelos preditores de clientes\n",
    "* Diagnóstico de doenças\n",
    "\n",
    "A regressão logística permite resolver problemas de classificação quanto tenta-se predizer categorias  discretas. Por convenção utiliza-se a classificação binária (0 e 1).\n",
    "\n",
    "A regressão logísitca se comporta melhor para com a teoria da probabilidade uma vez que qualquer valor computado/predito vai estar entre 0 e 1 uma vez que a função logística (também conhecida como sigmóide) so retorna valores entre 0 e 1. \n",
    "\n",
    "A expressão logísitica é dada pela seguinte fórmula:\n",
    "\n",
    "$$  \\phi  (z) =  \\frac{\\mathrm{1} }{\\mathrm{1} + e^{-Z} }  $$ \n",
    "\n",
    "Ao analisar a fórmula podemos inferir que é possivel adequar/transformar uma regressão linear em uma regressão logística, dessa forma a fórmula ficaria:\n",
    "\n",
    "$$  \\phi  (z) =  \\frac{\\mathrm{1} }{\\mathrm{1} + e^{-(b_0 + b_1 x)} }  $$ \n",
    "\n",
    "Da mesma forma que a regressão linear, antes de iniciar a construção do mesmo os dados devem ser separados em treino e teste e após construído o modelo o mesmo deve ser testado com os dados de teste. No entanto a forma de avaliação difere da regressão linear, para a regressão logística a avaliação é realizad com uma matriz de confusão.\n",
    "\n",
    "**MATRIZ DE CONFUSÂO**\n",
    "\n",
    "É uma métrica voltada para modelos de classificação binária que tem como objetivo calcular falsos positivos, falsos negativos, verdadeiros positivos e verdadeiros negativos. \n",
    "\n",
    "|   | Valor predito: NÃO | Valor predito: SIM\n",
    ":--------- | :------: | :-------:\n",
    "Valor Correto: NÃO | 50 (TN) | 10 FP\n",
    "Valor Correto: SIM | 5 (FN) | 100 TP\n",
    "\n",
    "Onde a terminologia básica é:\n",
    "* TP - True positive\n",
    "* TN - True negative\n",
    "* FP - False positive\n",
    "* FP - False negative\n",
    "\n",
    "A construção da matriz de confusão proporciona meios de avaliar o modelo sendo as principais métricas:\n",
    "* Precisão: representa o quanto em média o modelo acerta. Pode ser calculado pelo somatório dos casos verdadeiros dividindo pelo nº de observações:\n",
    "$$  Precisão =  \\frac{\\mathrm{TP + TN} }{\\mathrm{Nº de Observações} }  $$ \n",
    "\n",
    "* Sensibilidade: é a proporção dos casos positivos que foram identificados corretamente.\n",
    "* Especificidade: é a proporção dos casos negativos que foram identificados corretamente.\n",
    "* Acurácia: é a proporção de casos que foram corretamente previstos (casos verdadeiros e falsos que foram corretamente previstos (TP e TN))\n",
    "\n",
    "Ainda, é importante ressaltar sobre a análise dos erros. Quando o modelo acusa um falso positivo têm-se um erro do Tipo I e quando o modelo acusa um falso negativo têm-se um erro do Tipo II"
   ]
  },
  {
   "cell_type": "code",
   "execution_count": null,
   "metadata": {},
   "outputs": [],
   "source": []
  }
 ],
 "metadata": {
  "interpreter": {
   "hash": "869c33de66c5fbc5828826e9acd4d5d8f2b32f8f38a74fbfaf7e091466ece8c6"
  },
  "kernelspec": {
   "display_name": "Python 3.9.0 64-bit ('padrao': pyenv)",
   "language": "python",
   "name": "python3"
  },
  "language_info": {
   "name": "python",
   "version": "3.9.0"
  },
  "orig_nbformat": 4
 },
 "nbformat": 4,
 "nbformat_minor": 2
}
