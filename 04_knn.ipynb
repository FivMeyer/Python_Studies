{
 "cells": [
  {
   "cell_type": "markdown",
   "metadata": {},
   "source": [
    "O KNN (K Nearest Neighbors) opera calculando as distâncias de um determinado ponto x até os demais pontos. Basicamente ele trabalha com distâncias"
   ]
  },
  {
   "cell_type": "code",
   "execution_count": null,
   "metadata": {},
   "outputs": [],
   "source": []
  }
 ],
 "metadata": {
  "language_info": {
   "name": "python"
  },
  "orig_nbformat": 4
 },
 "nbformat": 4,
 "nbformat_minor": 2
}
