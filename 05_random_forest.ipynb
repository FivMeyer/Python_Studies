{
 "cells": [
  {
   "cell_type": "markdown",
   "metadata": {},
   "source": [
    "A entropia e o ganho de informação são as bases matemáticas para escolher a melhor divisão sendo que o algortimo fará a divisão sempre na classe que apresentar o maior \"ganho de informação\".\n",
    "As árvores aleatórias são muito sucetíveis a overfiting, uma forma de tentar corrigir isso é a criação de florestas aleatórias, onde são criadas várias árvores de devisão e o output é a média de todas as árvores.\n",
    "\n",
    "Em uma árvore de decisão temos:\n",
    "* Nós: dividem a árvore por um valor de um certo atributo.\n",
    "* Ramos: saídas de um nó.\n",
    "* Raiz: nó que faz a primeira divisão.\n",
    "* Folhas: nó final, que toma a decisão"
   ]
  },
  {
   "cell_type": "code",
   "execution_count": null,
   "metadata": {},
   "outputs": [],
   "source": []
  }
 ],
 "metadata": {
  "language_info": {
   "name": "python"
  },
  "orig_nbformat": 4
 },
 "nbformat": 4,
 "nbformat_minor": 2
}
