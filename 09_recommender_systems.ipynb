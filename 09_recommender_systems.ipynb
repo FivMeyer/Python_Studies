{
 "cells": [
  {
   "cell_type": "markdown",
   "metadata": {},
   "source": [
    "Recommender system is an ML algorithm that combine several computational techniques to select personalized items based in user interesti.\n",
    "\n",
    "The most common recommender system are:\n",
    "* Content-based filtering System: produces recommendations that focus on item attributes and give recommendations based on similarities.\n",
    "* Collaborative filtering System:  produces recommendations based on knowledge of attitudes toward items. This algorithm uses the \"mass knowledge\" to recommend items. Furthermore, collaborative filtering can be broken down into:\n",
    "    * Collaborative memory filtering\n",
    "    * Collaborative filtering by model\n",
    "\n",
    "If you need more information about this technique, please check this [link](https://towardsdatascience.com/introduction-to-recommender-systems-1-971bd274f421)"
   ]
  },
  {
   "cell_type": "code",
   "execution_count": null,
   "metadata": {},
   "outputs": [],
   "source": []
  },
  {
   "cell_type": "code",
   "execution_count": null,
   "metadata": {},
   "outputs": [],
   "source": []
  },
  {
   "cell_type": "code",
   "execution_count": null,
   "metadata": {},
   "outputs": [],
   "source": []
  },
  {
   "cell_type": "code",
   "execution_count": null,
   "metadata": {},
   "outputs": [],
   "source": []
  }
 ],
 "metadata": {
  "interpreter": {
   "hash": "869c33de66c5fbc5828826e9acd4d5d8f2b32f8f38a74fbfaf7e091466ece8c6"
  },
  "kernelspec": {
   "display_name": "Python 3.9.0 64-bit ('padrao': pyenv)",
   "language": "python",
   "name": "python3"
  },
  "language_info": {
   "name": "python",
   "version": "3.9.0"
  },
  "orig_nbformat": 4
 },
 "nbformat": 4,
 "nbformat_minor": 2
}
