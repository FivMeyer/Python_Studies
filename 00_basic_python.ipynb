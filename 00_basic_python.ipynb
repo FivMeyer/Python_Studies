{
 "cells": [
  {
   "cell_type": "markdown",
   "id": "3f97854c",
   "metadata": {},
   "source": [
    "# Structures"
   ]
  },
  {
   "cell_type": "markdown",
   "id": "636fccf1",
   "metadata": {},
   "source": [
    "## Dicionários"
   ]
  },
  {
   "cell_type": "code",
   "execution_count": 1,
   "id": "93889936",
   "metadata": {
    "ExecuteTime": {
     "end_time": "2021-12-28T15:48:56.473441Z",
     "start_time": "2021-12-28T15:48:56.464041Z"
    }
   },
   "outputs": [],
   "source": [
    "dic = {'lista':[1, 2, 3], 'ajuda':['ajudas', 'ajudantes', 'ajudou']}"
   ]
  },
  {
   "cell_type": "markdown",
   "id": "177123de",
   "metadata": {},
   "source": [
    "## If, Elif and Else"
   ]
  },
  {
   "cell_type": "code",
   "execution_count": 2,
   "id": "5a721e79",
   "metadata": {
    "ExecuteTime": {
     "end_time": "2021-12-28T15:48:57.603559Z",
     "start_time": "2021-12-28T15:48:57.567491Z"
    }
   },
   "outputs": [
    {
     "data": {
      "text/plain": [
       "'Reprovado'"
      ]
     },
     "execution_count": 2,
     "metadata": {},
     "output_type": "execute_result"
    }
   ],
   "source": [
    "x = 4\n",
    "\n",
    "if x > 7:\n",
    "    y = 'Aprovado'\n",
    "elif x > 4:\n",
    "    y = 'Recuperação'\n",
    "else:\n",
    "    y = 'Reprovado'\n",
    "y"
   ]
  },
  {
   "cell_type": "markdown",
   "id": "50bf0ad4",
   "metadata": {},
   "source": [
    "## For and While"
   ]
  },
  {
   "cell_type": "code",
   "execution_count": 3,
   "id": "95dd4656",
   "metadata": {
    "ExecuteTime": {
     "end_time": "2021-12-28T15:48:58.186291Z",
     "start_time": "2021-12-28T15:48:58.171686Z"
    }
   },
   "outputs": [
    {
     "name": "stdout",
     "output_type": "stream",
     "text": [
      "1\n",
      "2\n",
      "3\n",
      "4\n",
      "5\n",
      "6\n"
     ]
    }
   ],
   "source": [
    "seq = [1, 2, 3, 4, 5, 6]\n",
    "\n",
    "for i in seq:\n",
    "    print(i)"
   ]
  },
  {
   "cell_type": "code",
   "execution_count": 4,
   "id": "c880cef3",
   "metadata": {
    "ExecuteTime": {
     "end_time": "2021-12-28T15:48:58.351907Z",
     "start_time": "2021-12-28T15:48:58.347005Z"
    }
   },
   "outputs": [
    {
     "name": "stdout",
     "output_type": "stream",
     "text": [
      "i vale: 1\n",
      "i vale: 2\n",
      "i vale: 3\n",
      "i vale: 4\n",
      "i vale: 5\n"
     ]
    }
   ],
   "source": [
    "i = 1\n",
    "\n",
    "while i <= 5:\n",
    "    print('i vale: {}'.format(i))\n",
    "    i = i + 1"
   ]
  },
  {
   "cell_type": "code",
   "execution_count": 5,
   "id": "1843b675",
   "metadata": {
    "ExecuteTime": {
     "end_time": "2021-12-28T15:48:58.549515Z",
     "start_time": "2021-12-28T15:48:58.544123Z"
    }
   },
   "outputs": [
    {
     "data": {
      "text/plain": [
       "[4, 16, 64, 100]"
      ]
     },
     "execution_count": 5,
     "metadata": {},
     "output_type": "execute_result"
    }
   ],
   "source": [
    "x = [2, 4, 8, 10]\n",
    "\n",
    "[i**2 for i in x]"
   ]
  },
  {
   "cell_type": "markdown",
   "id": "499f2713",
   "metadata": {},
   "source": [
    "## Functions"
   ]
  },
  {
   "cell_type": "code",
   "execution_count": 6,
   "id": "d56bf8db",
   "metadata": {
    "ExecuteTime": {
     "end_time": "2021-12-28T15:48:58.857763Z",
     "start_time": "2021-12-28T15:48:58.850115Z"
    }
   },
   "outputs": [
    {
     "name": "stdout",
     "output_type": "stream",
     "text": [
      "Olá\n"
     ]
    }
   ],
   "source": [
    "def minha_func(param):\n",
    "    print(param)\n",
    "\n",
    "minha_func('Olá')"
   ]
  },
  {
   "cell_type": "code",
   "execution_count": 7,
   "id": "eea202c6",
   "metadata": {
    "ExecuteTime": {
     "end_time": "2021-12-28T15:48:59.086025Z",
     "start_time": "2021-12-28T15:48:59.076759Z"
    }
   },
   "outputs": [
    {
     "data": {
      "text/plain": [
       "3125"
      ]
     },
     "execution_count": 7,
     "metadata": {},
     "output_type": "execute_result"
    }
   ],
   "source": [
    "def minha_func(param):\n",
    "    x = param ** 5 \n",
    "    return x\n",
    "\n",
    "minha_func(5)"
   ]
  },
  {
   "cell_type": "markdown",
   "id": "e3e22d1e",
   "metadata": {},
   "source": [
    "### Lambda"
   ]
  },
  {
   "cell_type": "markdown",
   "id": "4fc3d7ca",
   "metadata": {},
   "source": [
    "Lambda é uma forma simplificada de se escrever uma função, no entanto ela só pode ser usada naquela linha do código com uma única e específica função/aplicação."
   ]
  },
  {
   "cell_type": "code",
   "execution_count": 8,
   "id": "61a781d1",
   "metadata": {
    "ExecuteTime": {
     "end_time": "2021-12-28T15:48:59.674812Z",
     "start_time": "2021-12-28T15:48:59.658108Z"
    },
    "code_folding": []
   },
   "outputs": [
    {
     "data": {
      "text/plain": [
       "<function __main__.<lambda>(var)>"
      ]
     },
     "execution_count": 8,
     "metadata": {},
     "output_type": "execute_result"
    }
   ],
   "source": [
    "##### Modo padrão de escrever uma função ####\n",
    "def quadrado(var):\n",
    "    return var ** 2\n",
    "\n",
    "##### Modo função em uma linha ####\n",
    "def quadrado(var): return var ** 2\n",
    "\n",
    "##### utilizando o lambda ####\n",
    "lambda var: var ** 2"
   ]
  },
  {
   "cell_type": "markdown",
   "id": "c30bba2a",
   "metadata": {
    "ExecuteTime": {
     "end_time": "2021-12-28T11:27:07.278835Z",
     "start_time": "2021-12-28T11:27:07.260745Z"
    },
    "cell_style": "center"
   },
   "source": [
    "### MAP"
   ]
  },
  {
   "cell_type": "code",
   "execution_count": 9,
   "id": "e562acb6",
   "metadata": {
    "ExecuteTime": {
     "end_time": "2021-12-28T15:49:00.047103Z",
     "start_time": "2021-12-28T15:49:00.035944Z"
    },
    "cell_style": "center"
   },
   "outputs": [],
   "source": [
    "def quadrado(var):\n",
    "    return var ** 2\n",
    "\n",
    "seq = [1,2,3,4,5]"
   ]
  },
  {
   "cell_type": "code",
   "execution_count": 10,
   "id": "7cb10eb4",
   "metadata": {
    "ExecuteTime": {
     "end_time": "2021-12-28T15:49:00.190790Z",
     "start_time": "2021-12-28T15:49:00.179748Z"
    },
    "cell_style": "center"
   },
   "outputs": [
    {
     "data": {
      "text/plain": [
       "<map at 0x7f8ea87cadc0>"
      ]
     },
     "execution_count": 10,
     "metadata": {},
     "output_type": "execute_result"
    }
   ],
   "source": [
    "map(quadrado, seq)"
   ]
  },
  {
   "cell_type": "code",
   "execution_count": 11,
   "id": "0d4e0594",
   "metadata": {
    "ExecuteTime": {
     "end_time": "2021-12-28T15:49:00.585682Z",
     "start_time": "2021-12-28T15:49:00.567572Z"
    }
   },
   "outputs": [
    {
     "data": {
      "text/plain": [
       "[1, 4, 9, 16, 25]"
      ]
     },
     "execution_count": 11,
     "metadata": {},
     "output_type": "execute_result"
    }
   ],
   "source": [
    "# Para exibir os valores da função map, deve ser convertido em lista\n",
    "list(map(quadrado, seq))"
   ]
  },
  {
   "cell_type": "markdown",
   "id": "046d541b",
   "metadata": {},
   "source": [
    "### Lambda and MAP"
   ]
  },
  {
   "cell_type": "code",
   "execution_count": 12,
   "id": "50f2e3d5",
   "metadata": {
    "ExecuteTime": {
     "end_time": "2021-12-28T15:49:01.003319Z",
     "start_time": "2021-12-28T15:49:00.998957Z"
    }
   },
   "outputs": [
    {
     "data": {
      "text/plain": [
       "[1, 4, 9, 16, 25]"
      ]
     },
     "execution_count": 12,
     "metadata": {},
     "output_type": "execute_result"
    }
   ],
   "source": [
    "list(map(lambda x:x**2, seq))"
   ]
  },
  {
   "cell_type": "markdown",
   "id": "a541537d",
   "metadata": {},
   "source": [
    "### Lambda and Filter"
   ]
  },
  {
   "cell_type": "code",
   "execution_count": 13,
   "id": "c66c6db5",
   "metadata": {
    "ExecuteTime": {
     "end_time": "2021-12-28T15:49:01.481821Z",
     "start_time": "2021-12-28T15:49:01.466138Z"
    }
   },
   "outputs": [
    {
     "data": {
      "text/plain": [
       "[2, 4]"
      ]
     },
     "execution_count": 13,
     "metadata": {},
     "output_type": "execute_result"
    }
   ],
   "source": [
    "list(filter(lambda x:x % 2 == 0, seq))"
   ]
  },
  {
   "cell_type": "markdown",
   "id": "df56af83",
   "metadata": {},
   "source": [
    "### Methods"
   ]
  },
  {
   "cell_type": "markdown",
   "id": "24cacd9b",
   "metadata": {},
   "source": [
    "Métodos são funções específicas aninhadas dentro de uma classe para a qual elas foram criadas. Ao se adicionar um \".\" após a classe é possível acessar essas funções aninhadas"
   ]
  },
  {
   "cell_type": "code",
   "execution_count": 14,
   "id": "fe3742d7",
   "metadata": {
    "ExecuteTime": {
     "end_time": "2021-12-28T15:49:02.872915Z",
     "start_time": "2021-12-28T15:49:02.862713Z"
    }
   },
   "outputs": [],
   "source": [
    "str = 'Olá, eu me chamo Fernando'"
   ]
  },
  {
   "cell_type": "code",
   "execution_count": 15,
   "id": "50e016ad",
   "metadata": {
    "ExecuteTime": {
     "end_time": "2021-12-28T15:49:03.670142Z",
     "start_time": "2021-12-28T15:49:03.656801Z"
    }
   },
   "outputs": [
    {
     "name": "stdout",
     "output_type": "stream",
     "text": [
      "olá, eu me chamo fernando\n",
      "OLÁ, EU ME CHAMO FERNANDO\n",
      "['Olá,', 'eu', 'me', 'chamo', 'Fernando']\n"
     ]
    }
   ],
   "source": [
    "print(str.lower())\n",
    "print(str.upper())\n",
    "print(str.split())"
   ]
  },
  {
   "cell_type": "markdown",
   "id": "090b0ca6",
   "metadata": {},
   "source": [
    "## Exercícios\n",
    "\n",
    "Responda as perguntas ou complete as tarefas descritas em negrito abaixo, use o método específico, se aplicável."
   ]
  },
  {
   "cell_type": "markdown",
   "id": "e1ad1c0e",
   "metadata": {},
   "source": [
    "** Quanto é 7 elevado na potência 4? **"
   ]
  },
  {
   "cell_type": "code",
   "execution_count": 16,
   "id": "8020398c",
   "metadata": {
    "ExecuteTime": {
     "end_time": "2021-12-28T15:49:05.616534Z",
     "start_time": "2021-12-28T15:49:05.606302Z"
    }
   },
   "outputs": [
    {
     "data": {
      "text/plain": [
       "2401"
      ]
     },
     "execution_count": 16,
     "metadata": {},
     "output_type": "execute_result"
    }
   ],
   "source": [
    "7 ** 4"
   ]
  },
  {
   "cell_type": "markdown",
   "id": "8f255e08",
   "metadata": {},
   "source": [
    "** Quebre a seguinte string em uma lista:**\n"
   ]
  },
  {
   "cell_type": "code",
   "execution_count": 17,
   "id": "8d4ac061",
   "metadata": {
    "ExecuteTime": {
     "end_time": "2021-12-28T15:49:07.022466Z",
     "start_time": "2021-12-28T15:49:07.017411Z"
    }
   },
   "outputs": [
    {
     "data": {
      "text/plain": [
       "list"
      ]
     },
     "execution_count": 17,
     "metadata": {},
     "output_type": "execute_result"
    }
   ],
   "source": [
    "s = \"Olá, Pai!\"\n",
    "s = s.split()\n",
    "type(s)"
   ]
  },
  {
   "cell_type": "markdown",
   "id": "513fc94d",
   "metadata": {},
   "source": [
    "** Dada as variáveis:**\n",
    "\n",
    "    Planeta = \"Terra\"\n",
    "    Diametro = 12742\n",
    "\n",
    "** Use .format() para printar a seguinte frase: **\n",
    "\n",
    "    O diâmetro da terra é de 12742 kilômetros."
   ]
  },
  {
   "cell_type": "code",
   "execution_count": 18,
   "id": "75315953",
   "metadata": {
    "ExecuteTime": {
     "end_time": "2021-12-28T15:49:09.308454Z",
     "start_time": "2021-12-28T15:49:09.296561Z"
    }
   },
   "outputs": [],
   "source": [
    "planeta = \"Terra\"\n",
    "diametro = 12742"
   ]
  },
  {
   "cell_type": "code",
   "execution_count": 19,
   "id": "fa4a23ee",
   "metadata": {
    "ExecuteTime": {
     "end_time": "2021-12-28T15:49:09.900155Z",
     "start_time": "2021-12-28T15:49:09.891319Z"
    }
   },
   "outputs": [
    {
     "name": "stdout",
     "output_type": "stream",
     "text": [
      "O diâmetro da Terra é de 12742 quilômetros\n"
     ]
    }
   ],
   "source": [
    "print('O diâmetro da {} é de {} quilômetros'.format(planeta, diametro))"
   ]
  },
  {
   "cell_type": "markdown",
   "id": "0b2c0a15",
   "metadata": {},
   "source": [
    "** Dada a lista abaixo, use indexação para obter apenas a string \"ola\". **"
   ]
  },
  {
   "cell_type": "code",
   "execution_count": 20,
   "id": "18152b00",
   "metadata": {
    "ExecuteTime": {
     "end_time": "2021-12-28T15:49:11.772459Z",
     "start_time": "2021-12-28T15:49:11.768751Z"
    }
   },
   "outputs": [],
   "source": [
    "lst = [1,2,[3,4],[5,[100,200,['olá']],23,11],1,7]"
   ]
  },
  {
   "cell_type": "code",
   "execution_count": 21,
   "id": "1cd53c83",
   "metadata": {
    "ExecuteTime": {
     "end_time": "2021-12-28T15:49:12.359442Z",
     "start_time": "2021-12-28T15:49:12.347427Z"
    }
   },
   "outputs": [
    {
     "data": {
      "text/plain": [
       "'olá'"
      ]
     },
     "execution_count": 21,
     "metadata": {},
     "output_type": "execute_result"
    }
   ],
   "source": [
    "lst[3][1][2][0]"
   ]
  },
  {
   "cell_type": "markdown",
   "id": "6a331918",
   "metadata": {},
   "source": [
    "** Dado o seguinte dicionário aninhado, extraia a palavra \"hello\" **"
   ]
  },
  {
   "cell_type": "code",
   "execution_count": 22,
   "id": "62df9a87",
   "metadata": {
    "ExecuteTime": {
     "end_time": "2021-12-28T15:49:14.324507Z",
     "start_time": "2021-12-28T15:49:14.312628Z"
    }
   },
   "outputs": [],
   "source": [
    "d = {'k1':[1,2,3,{'café':['banana','mulher','colher',{'alvo':[1,2,3,'olá']}]}]}"
   ]
  },
  {
   "cell_type": "code",
   "execution_count": 23,
   "id": "ee07d31d",
   "metadata": {
    "ExecuteTime": {
     "end_time": "2021-12-28T15:49:14.703109Z",
     "start_time": "2021-12-28T15:49:14.692440Z"
    }
   },
   "outputs": [
    {
     "data": {
      "text/plain": [
       "'olá'"
      ]
     },
     "execution_count": 23,
     "metadata": {},
     "output_type": "execute_result"
    }
   ],
   "source": [
    "d['k1'][3]['café'][3]['alvo'][3]"
   ]
  },
  {
   "cell_type": "markdown",
   "id": "2c97ee86",
   "metadata": {},
   "source": [
    "** Qual a principal diferença entre um dicionário e uma tupla? **"
   ]
  },
  {
   "cell_type": "markdown",
   "id": "8bd26757",
   "metadata": {
    "ExecuteTime": {
     "end_time": "2021-12-28T13:17:14.560097Z",
     "start_time": "2021-12-28T13:17:14.547162Z"
    },
    "collapsed": true
   },
   "source": [
    "Cria dados imutáveis"
   ]
  },
  {
   "cell_type": "markdown",
   "id": "73f08c99",
   "metadata": {},
   "source": [
    "** Construa uma função que retire o domínio dado um e-mail no seguinte formato: **\n",
    "\n",
    "    user@domain.com\n",
    "    \n",
    "**Por exemplo, passando como parâmetro \"user@domain.com\" retornaria: domain.com**"
   ]
  },
  {
   "cell_type": "code",
   "execution_count": 24,
   "id": "a41d1a03",
   "metadata": {
    "ExecuteTime": {
     "end_time": "2021-12-28T15:49:16.670062Z",
     "start_time": "2021-12-28T15:49:16.666506Z"
    }
   },
   "outputs": [],
   "source": [
    "email = 'user@domain.com'\n",
    "\n",
    "def obterDominio(email):\n",
    "    x = email.split('@')[-1] # é utilizado o -1 para retornar o ultimo '@' presente\n",
    "    #x = x.pop() # eu havia usado o .pop para retornar o ultimo item da lista\n",
    "    return(print('O domínio do email é: {}'.format(x)))"
   ]
  },
  {
   "cell_type": "code",
   "execution_count": 25,
   "id": "0079bf29",
   "metadata": {
    "ExecuteTime": {
     "end_time": "2021-12-28T15:49:17.118487Z",
     "start_time": "2021-12-28T15:49:17.109200Z"
    }
   },
   "outputs": [
    {
     "name": "stdout",
     "output_type": "stream",
     "text": [
      "O domínio do email é: domain.com\n"
     ]
    }
   ],
   "source": [
    "obterDominio(email)"
   ]
  },
  {
   "cell_type": "code",
   "execution_count": 26,
   "id": "505cc69f",
   "metadata": {
    "ExecuteTime": {
     "end_time": "2021-12-28T15:49:17.680519Z",
     "start_time": "2021-12-28T15:49:17.671805Z"
    }
   },
   "outputs": [
    {
     "name": "stdout",
     "output_type": "stream",
     "text": [
      "O domínio do email é: domain.com\n"
     ]
    }
   ],
   "source": [
    "obterDominio('user@domain.com')"
   ]
  },
  {
   "cell_type": "markdown",
   "id": "2f0276e5",
   "metadata": {},
   "source": [
    "** Crie uma função básica que retorna True se a palavra 'dog' estiver contida na string de entrada. Não se preocupe com os casos de extremos, como uma pontuação que está sendo anexada à palavra cão, mas que seja senível à caixa. **"
   ]
  },
  {
   "cell_type": "code",
   "execution_count": 27,
   "id": "d1ff3dee",
   "metadata": {
    "ExecuteTime": {
     "end_time": "2021-12-28T15:49:18.675516Z",
     "start_time": "2021-12-28T15:49:18.668484Z"
    }
   },
   "outputs": [],
   "source": [
    "def encontreCachorro(string):\n",
    "    return 'cachorro' in string.lower()"
   ]
  },
  {
   "cell_type": "code",
   "execution_count": 28,
   "id": "3f6aff35",
   "metadata": {
    "ExecuteTime": {
     "end_time": "2021-12-28T15:49:19.250824Z",
     "start_time": "2021-12-28T15:49:19.236821Z"
    }
   },
   "outputs": [
    {
     "data": {
      "text/plain": [
       "True"
      ]
     },
     "execution_count": 28,
     "metadata": {},
     "output_type": "execute_result"
    }
   ],
   "source": [
    "encontreCachorro('Existe um cachorro aí?')"
   ]
  },
  {
   "cell_type": "markdown",
   "id": "7dc4e6d6",
   "metadata": {},
   "source": [
    "** Crie uma função que conta o número de vezes que a palavra \"dog\" ocorre em uma string. Novamente ignore os casos extremos. **"
   ]
  },
  {
   "cell_type": "code",
   "execution_count": 29,
   "id": "ad3d4f03",
   "metadata": {
    "ExecuteTime": {
     "end_time": "2021-12-28T15:49:20.385822Z",
     "start_time": "2021-12-28T15:49:20.376587Z"
    }
   },
   "outputs": [],
   "source": [
    "def contaCachorro(string):\n",
    "    cont = 0\n",
    "    for i in string.lower().split():\n",
    "        if i == 'cachorro':\n",
    "            cont = cont + 1\n",
    "    return cont"
   ]
  },
  {
   "cell_type": "code",
   "execution_count": 30,
   "id": "29be2c72",
   "metadata": {
    "ExecuteTime": {
     "end_time": "2021-12-28T15:49:20.924013Z",
     "start_time": "2021-12-28T15:49:20.911133Z"
    }
   },
   "outputs": [
    {
     "data": {
      "text/plain": [
       "2"
      ]
     },
     "execution_count": 30,
     "metadata": {},
     "output_type": "execute_result"
    }
   ],
   "source": [
    "contaCachorro('Esse cachorro é mais rápido que o outro cachorro')"
   ]
  },
  {
   "cell_type": "markdown",
   "id": "09b26de4",
   "metadata": {},
   "source": [
    "** Use expressões lambda e a função filter () para filtrar as palavras de uma lista que não começa com a letra 's'. Por exemplo: **\n",
    "\n",
    "    seq = ['sopa','cachorro','salada','gato','ótimo']\n",
    "\n",
    "** Deveria ser filtrado para:**\n",
    "\n",
    "    ['sopa','salada']"
   ]
  },
  {
   "cell_type": "code",
   "execution_count": 31,
   "id": "96689fa3",
   "metadata": {
    "ExecuteTime": {
     "end_time": "2021-12-28T15:49:21.995218Z",
     "start_time": "2021-12-28T15:49:21.987810Z"
    }
   },
   "outputs": [],
   "source": [
    "seq = ['sopa','cachorro','salada','gato','ótimo']"
   ]
  },
  {
   "cell_type": "code",
   "execution_count": 32,
   "id": "7f1b9706",
   "metadata": {
    "ExecuteTime": {
     "end_time": "2021-12-28T15:49:22.512329Z",
     "start_time": "2021-12-28T15:49:22.493927Z"
    }
   },
   "outputs": [
    {
     "data": {
      "text/plain": [
       "['sopa', 'salada']"
      ]
     },
     "execution_count": 32,
     "metadata": {},
     "output_type": "execute_result"
    }
   ],
   "source": [
    "list(filter(lambda x: x[0] == 's', seq))"
   ]
  },
  {
   "cell_type": "markdown",
   "id": "56a3d44f",
   "metadata": {},
   "source": [
    "### Problema final\n",
    "** Você está dirigindo um pouco rápido demais, e um policial para você. Escreva uma função para retornar um dos 3 resultados possíveis: \"Sem multa\", \"Pequena multa\" ou \"Multa Grande\".\n",
    "   Se a sua velocidade for igual ou inferior a 60, o resultado é \"Sem multa\". Se a velocidade for entre 61 e 80 inclusive, o resultado é \"Multa Pequena\". Se a velocidade é de 81 ou mais, o resultado é \"Multa Grande\". A menos que seja seu aniversário (codificado como um valor booleano nos parâmetros da função) - em seu aniversário, sua velocidade pode ser 5 maior em todos os casos. **"
   ]
  },
  {
   "cell_type": "code",
   "execution_count": 33,
   "id": "4563146e",
   "metadata": {
    "ExecuteTime": {
     "end_time": "2021-12-28T15:49:24.346173Z",
     "start_time": "2021-12-28T15:49:24.335239Z"
    }
   },
   "outputs": [],
   "source": [
    "def capturar_velocidade(speed, is_birthday):\n",
    "    if is_birthday:\n",
    "        speed = speed - 5\n",
    "    if speed > 80:\n",
    "        return 'Multa Grande'\n",
    "    if speed > 60:\n",
    "        return 'Multa Pequena'\n",
    "    else:\n",
    "        return 'Sem Multa'\n",
    "    pass"
   ]
  },
  {
   "cell_type": "code",
   "execution_count": 34,
   "id": "ca1196ac",
   "metadata": {
    "ExecuteTime": {
     "end_time": "2021-12-28T15:49:25.085522Z",
     "start_time": "2021-12-28T15:49:25.059086Z"
    }
   },
   "outputs": [
    {
     "name": "stdout",
     "output_type": "stream",
     "text": [
      "Multa Pequena\n",
      "Multa Grande\n",
      "Sem Multa\n"
     ]
    }
   ],
   "source": [
    "print(capturar_velocidade(65,False))\n",
    "print(capturar_velocidade(81,False))\n",
    "print(capturar_velocidade(65, True))"
   ]
  },
  {
   "cell_type": "markdown",
   "id": "db78c863",
   "metadata": {},
   "source": [
    "# Numpy Intro"
   ]
  },
  {
   "cell_type": "code",
   "execution_count": 35,
   "id": "4c36a210",
   "metadata": {
    "ExecuteTime": {
     "end_time": "2021-12-28T15:53:10.964784Z",
     "start_time": "2021-12-28T15:53:10.611959Z"
    }
   },
   "outputs": [],
   "source": [
    "import numpy as np"
   ]
  },
  {
   "cell_type": "code",
   "execution_count": 38,
   "id": "b46ac105",
   "metadata": {
    "ExecuteTime": {
     "end_time": "2021-12-28T15:54:57.946059Z",
     "start_time": "2021-12-28T15:54:57.939978Z"
    }
   },
   "outputs": [],
   "source": [
    "minha_lista = [1,2,3,4,5]\n",
    "\n",
    "minha_matriz = [[1,2,3], [4,5,6], [7,8,9]]"
   ]
  },
  {
   "cell_type": "code",
   "execution_count": 37,
   "id": "af46f55f",
   "metadata": {
    "ExecuteTime": {
     "end_time": "2021-12-28T15:54:14.560851Z",
     "start_time": "2021-12-28T15:54:14.544121Z"
    }
   },
   "outputs": [
    {
     "data": {
      "text/plain": [
       "array([1, 2, 3, 4, 5])"
      ]
     },
     "execution_count": 37,
     "metadata": {},
     "output_type": "execute_result"
    }
   ],
   "source": [
    "# Convertendo uma lista em array\n",
    "np.array(minha_lista)"
   ]
  },
  {
   "cell_type": "code",
   "execution_count": 41,
   "id": "22337d36",
   "metadata": {
    "ExecuteTime": {
     "end_time": "2021-12-28T15:55:43.879892Z",
     "start_time": "2021-12-28T15:55:43.872332Z"
    }
   },
   "outputs": [
    {
     "data": {
      "text/plain": [
       "array([[1, 2, 3],\n",
       "       [4, 5, 6],\n",
       "       [7, 8, 9]])"
      ]
     },
     "execution_count": 41,
     "metadata": {},
     "output_type": "execute_result"
    }
   ],
   "source": [
    "# Convertendo uma lista em um array multidimensional\n",
    "np.array(minha_matriz)"
   ]
  },
  {
   "cell_type": "code",
   "execution_count": 43,
   "id": "91fe9ec3",
   "metadata": {
    "ExecuteTime": {
     "end_time": "2021-12-28T15:57:19.933919Z",
     "start_time": "2021-12-28T15:57:19.895744Z"
    }
   },
   "outputs": [
    {
     "data": {
      "text/plain": [
       "array([0. , 0.1, 0.2, 0.3, 0.4, 0.5, 0.6, 0.7, 0.8, 0.9, 1. , 1.1, 1.2,\n",
       "       1.3, 1.4, 1.5, 1.6, 1.7, 1.8, 1.9, 2. , 2.1, 2.2, 2.3, 2.4, 2.5,\n",
       "       2.6, 2.7, 2.8, 2.9, 3. , 3.1, 3.2, 3.3, 3.4, 3.5, 3.6, 3.7, 3.8,\n",
       "       3.9, 4. , 4.1, 4.2, 4.3, 4.4, 4.5, 4.6, 4.7, 4.8, 4.9, 5. , 5.1,\n",
       "       5.2, 5.3, 5.4, 5.5, 5.6, 5.7, 5.8, 5.9, 6. , 6.1, 6.2, 6.3, 6.4,\n",
       "       6.5, 6.6, 6.7, 6.8, 6.9, 7. , 7.1, 7.2, 7.3, 7.4, 7.5, 7.6, 7.7,\n",
       "       7.8, 7.9, 8. , 8.1, 8.2, 8.3, 8.4, 8.5, 8.6, 8.7, 8.8, 8.9, 9. ,\n",
       "       9.1, 9.2, 9.3, 9.4, 9.5, 9.6, 9.7, 9.8, 9.9])"
      ]
     },
     "execution_count": 43,
     "metadata": {},
     "output_type": "execute_result"
    }
   ],
   "source": [
    "np.arange(0,10, 0.1)"
   ]
  },
  {
   "cell_type": "code",
   "execution_count": 44,
   "id": "17111a19",
   "metadata": {
    "ExecuteTime": {
     "end_time": "2021-12-28T15:59:23.044291Z",
     "start_time": "2021-12-28T15:59:23.031509Z"
    }
   },
   "outputs": [
    {
     "data": {
      "text/plain": [
       "array([0., 0., 0.])"
      ]
     },
     "execution_count": 44,
     "metadata": {},
     "output_type": "execute_result"
    }
   ],
   "source": [
    "np.zeros(3)"
   ]
  },
  {
   "cell_type": "code",
   "execution_count": 47,
   "id": "9886e965",
   "metadata": {
    "ExecuteTime": {
     "end_time": "2021-12-28T15:59:54.263268Z",
     "start_time": "2021-12-28T15:59:54.251031Z"
    }
   },
   "outputs": [
    {
     "data": {
      "text/plain": [
       "array([[0., 0., 0., 0., 0.],\n",
       "       [0., 0., 0., 0., 0.],\n",
       "       [0., 0., 0., 0., 0.],\n",
       "       [0., 0., 0., 0., 0.],\n",
       "       [0., 0., 0., 0., 0.]])"
      ]
     },
     "execution_count": 47,
     "metadata": {},
     "output_type": "execute_result"
    }
   ],
   "source": [
    "arr = np.zeros((5,5))\n",
    "arr"
   ]
  },
  {
   "cell_type": "code",
   "execution_count": 49,
   "id": "a122ed13",
   "metadata": {
    "ExecuteTime": {
     "end_time": "2021-12-28T16:00:13.000796Z",
     "start_time": "2021-12-28T16:00:12.987162Z"
    }
   },
   "outputs": [
    {
     "data": {
      "text/plain": [
       "array([[1., 1., 1.],\n",
       "       [1., 1., 1.],\n",
       "       [1., 1., 1.]])"
      ]
     },
     "execution_count": 49,
     "metadata": {},
     "output_type": "execute_result"
    }
   ],
   "source": [
    "np.ones((3,3))"
   ]
  },
  {
   "cell_type": "code",
   "execution_count": 50,
   "id": "74889c91",
   "metadata": {
    "ExecuteTime": {
     "end_time": "2021-12-28T16:00:26.479679Z",
     "start_time": "2021-12-28T16:00:26.468137Z"
    }
   },
   "outputs": [
    {
     "data": {
      "text/plain": [
       "array([[1., 0., 0., 0.],\n",
       "       [0., 1., 0., 0.],\n",
       "       [0., 0., 1., 0.],\n",
       "       [0., 0., 0., 1.]])"
      ]
     },
     "execution_count": 50,
     "metadata": {},
     "output_type": "execute_result"
    }
   ],
   "source": [
    "np.eye(4)"
   ]
  },
  {
   "cell_type": "code",
   "execution_count": 55,
   "id": "ac5bd62e",
   "metadata": {
    "ExecuteTime": {
     "end_time": "2021-12-28T16:03:32.878604Z",
     "start_time": "2021-12-28T16:03:32.866237Z"
    }
   },
   "outputs": [
    {
     "data": {
      "text/plain": [
       "array([0.50741318, 0.6785959 , 0.78734338, 0.51365816, 0.74621981])"
      ]
     },
     "execution_count": 55,
     "metadata": {},
     "output_type": "execute_result"
    }
   ],
   "source": [
    "np.random.rand(5)"
   ]
  },
  {
   "cell_type": "code",
   "execution_count": 56,
   "id": "b9dd8b3b",
   "metadata": {
    "ExecuteTime": {
     "end_time": "2021-12-28T16:03:42.668702Z",
     "start_time": "2021-12-28T16:03:42.658755Z"
    }
   },
   "outputs": [
    {
     "data": {
      "text/plain": [
       "array([-1.08604359, -1.01570098, -0.46119721, -0.42028877, -2.11622633])"
      ]
     },
     "execution_count": 56,
     "metadata": {},
     "output_type": "execute_result"
    }
   ],
   "source": [
    "np.random.randn(5)"
   ]
  },
  {
   "cell_type": "code",
   "execution_count": 58,
   "id": "2ad3d467",
   "metadata": {
    "ExecuteTime": {
     "end_time": "2021-12-28T16:42:17.426644Z",
     "start_time": "2021-12-28T16:42:17.412100Z"
    }
   },
   "outputs": [
    {
     "data": {
      "text/plain": [
       "array([ 0,  1,  2,  3,  4,  5,  6,  7,  8,  9, 10, 11, 12, 13, 14, 15])"
      ]
     },
     "execution_count": 58,
     "metadata": {},
     "output_type": "execute_result"
    }
   ],
   "source": [
    "arr = np.arange(0,16)\n",
    "arr"
   ]
  },
  {
   "cell_type": "code",
   "execution_count": 63,
   "id": "c534eb93",
   "metadata": {
    "ExecuteTime": {
     "end_time": "2021-12-28T17:20:22.472351Z",
     "start_time": "2021-12-28T17:20:22.457700Z"
    }
   },
   "outputs": [
    {
     "name": "stdout",
     "output_type": "stream",
     "text": [
      "[ 0  2  4  6  8 10 12 14 16 18 20 22 24 26 28 30]\n",
      "[0 0 0 0 0 0 0 0 0 0 0 0 0 0 0 0]\n",
      "[  0   1   4   9  16  25  36  49  64  81 100 121 144 169 196 225]\n",
      "[nan  1.  1.  1.  1.  1.  1.  1.  1.  1.  1.  1.  1.  1.  1.  1.]\n",
      "[ 0  3  6  9 12 15 18 21 24 27 30 33 36 39 42 45]\n"
     ]
    },
    {
     "name": "stderr",
     "output_type": "stream",
     "text": [
      "/tmp/ipykernel_17098/3767794586.py:5: RuntimeWarning: invalid value encountered in true_divide\n",
      "  print(arr / arr)\n"
     ]
    }
   ],
   "source": [
    "# É possível efetuar operações entre arrays desde que eles possuam as mesmas dimensões\n",
    "print(arr + arr)\n",
    "print(arr - arr)\n",
    "print(arr * arr)\n",
    "print(arr / arr)\n",
    "print(arr *3 )\n"
   ]
  },
  {
   "cell_type": "code",
   "execution_count": 66,
   "id": "db15ebfa",
   "metadata": {
    "ExecuteTime": {
     "end_time": "2021-12-28T17:24:20.887708Z",
     "start_time": "2021-12-28T17:24:20.879989Z"
    }
   },
   "outputs": [
    {
     "name": "stdout",
     "output_type": "stream",
     "text": [
      "[0.         1.         1.41421356 1.73205081 2.         2.23606798\n",
      " 2.44948974 2.64575131 2.82842712 3.         3.16227766 3.31662479\n",
      " 3.46410162 3.60555128 3.74165739 3.87298335]\n",
      "[1.00000000e+00 2.71828183e+00 7.38905610e+00 2.00855369e+01\n",
      " 5.45981500e+01 1.48413159e+02 4.03428793e+02 1.09663316e+03\n",
      " 2.98095799e+03 8.10308393e+03 2.20264658e+04 5.98741417e+04\n",
      " 1.62754791e+05 4.42413392e+05 1.20260428e+06 3.26901737e+06]\n",
      "7.5\n"
     ]
    }
   ],
   "source": [
    "# O Numpy tem vários métodos embutidos na biblioteca\n",
    "print(np.sqrt(arr))\n",
    "print(np.exp(arr))\n",
    "print(np.mean(arr))"
   ]
  },
  {
   "cell_type": "code",
   "execution_count": null,
   "id": "dc13c0e7",
   "metadata": {},
   "outputs": [],
   "source": []
  }
 ],
 "metadata": {
  "kernelspec": {
   "display_name": "Python 3 (ipykernel)",
   "language": "python",
   "name": "python3"
  },
  "language_info": {
   "codemirror_mode": {
    "name": "ipython",
    "version": 3
   },
   "file_extension": ".py",
   "mimetype": "text/x-python",
   "name": "python",
   "nbconvert_exporter": "python",
   "pygments_lexer": "ipython3",
   "version": "3.9.0"
  },
  "toc": {
   "base_numbering": 1,
   "nav_menu": {},
   "number_sections": true,
   "sideBar": true,
   "skip_h1_title": false,
   "title_cell": "Table of Contents",
   "title_sidebar": "Contents",
   "toc_cell": false,
   "toc_position": {},
   "toc_section_display": true,
   "toc_window_display": true
  }
 },
 "nbformat": 4,
 "nbformat_minor": 5
}
